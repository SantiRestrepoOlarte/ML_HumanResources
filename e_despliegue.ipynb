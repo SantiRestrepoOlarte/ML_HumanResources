{
 "cells": [
  {
   "cell_type": "code",
   "execution_count": 1,
   "metadata": {},
   "outputs": [],
   "source": [
    "import a_funciones as funciones  ###archivo de funciones propias\n",
    "import pandas as pd ### para manejo de datos\n",
    "import joblib\n",
    "import openpyxl ## para exportar a excel\n",
    "import numpy as np\n",
    "import matplotlib.pyplot as plt\n",
    "import seaborn as sns"
   ]
  },
  {
   "cell_type": "code",
   "execution_count": 2,
   "metadata": {},
   "outputs": [],
   "source": [
    "df_models = pd.read_csv('data//df_employees_models.csv')"
   ]
  },
  {
   "cell_type": "code",
   "execution_count": 3,
   "metadata": {},
   "outputs": [
    {
     "name": "stdout",
     "output_type": "stream",
     "text": [
      "<class 'pandas.core.frame.DataFrame'>\n",
      "RangeIndex: 4410 entries, 0 to 4409\n",
      "Data columns (total 4 columns):\n",
      " #   Column          Non-Null Count  Dtype \n",
      "---  ------          --------------  ----- \n",
      " 0   BusinessTravel  4410 non-null   object\n",
      " 1   Department      4410 non-null   object\n",
      " 2   EducationField  4410 non-null   object\n",
      " 3   MaritalStatus   4410 non-null   object\n",
      "dtypes: object(4)\n",
      "memory usage: 137.9+ KB\n",
      "<class 'pandas.core.frame.DataFrame'>\n",
      "RangeIndex: 4410 entries, 0 to 4409\n",
      "Data columns (total 15 columns):\n",
      " #   Column                   Non-Null Count  Dtype  \n",
      "---  ------                   --------------  -----  \n",
      " 0   EmployeeID               4410 non-null   float64\n",
      " 1   Age                      4410 non-null   float64\n",
      " 2   DistanceFromHome         4410 non-null   float64\n",
      " 3   Education                4410 non-null   float64\n",
      " 4   JobLevel                 4410 non-null   float64\n",
      " 5   MonthlyIncome            4410 non-null   float64\n",
      " 6   NumCompaniesWorked       4410 non-null   float64\n",
      " 7   PercentSalaryHike        4410 non-null   float64\n",
      " 8   StockOptionLevel         4410 non-null   float64\n",
      " 9   TrainingTimesLastYear    4410 non-null   float64\n",
      " 10  YearsSinceLastPromotion  4410 non-null   float64\n",
      " 11  EnvironmentSatisfaction  4410 non-null   float64\n",
      " 12  JobSatisfaction          4410 non-null   float64\n",
      " 13  WorkLifeBalance          4410 non-null   float64\n",
      " 14  JobInvolvement           4410 non-null   float64\n",
      "dtypes: float64(15)\n",
      "memory usage: 516.9 KB\n"
     ]
    }
   ],
   "source": [
    "if __name__==\"__main__\":\n",
    "    df_despliegue = pd.read_csv('data//test.csv')\n",
    "    \n",
    "    df_despliegue['Age'] = df_despliegue['Age'] + 1\n",
    "    \n",
    "     ####Otras transformaciones en python (imputación, dummies y seleccion de variables)\n",
    "    df_t = funciones.preparar_datos(df_despliegue)\n",
    "    \n",
    "     ##Cargar modelo y predecir\n",
    "    rf_despliegue = joblib.load(\"salidas\\\\rf_final.pkl\")\n",
    "    predicciones=rf_despliegue.predict(df_t)\n",
    "    pd_pred=pd.DataFrame(predicciones, columns=['pred_ret_2017'])\n",
    "    \n",
    "    ###Crear base con predicciones ####\n",
    "    perf_pred=pd.concat([df_despliegue['EmployeeID'],df_t, pd_pred],axis=1)\n",
    "    \n",
    "    df_pred = perf_pred.loc[:,['EmployeeID', 'pred_ret_2017']]\n",
    "    \n",
    "    ####ver_predicciones ###\n",
    "    emp_pred=df_pred['pred_ret_2017']\n",
    "    emp_pred = pd.DataFrame(emp_pred, columns=['pred_ret_2017'])\n",
    "    emp_pred.set_index(df_despliegue['EmployeeID'], inplace=True)\n",
    "    emp_pred = emp_pred.reset_index() \n",
    "    \n",
    "    emp_pred.to_excel(\"salidas\\\\prediccion.xlsx\")   #### exportar predicciones mas bajas y variables explicativas\n",
    "    "
   ]
  },
  {
   "cell_type": "code",
   "execution_count": 4,
   "metadata": {},
   "outputs": [
    {
     "data": {
      "text/html": [
       "<div>\n",
       "<style scoped>\n",
       "    .dataframe tbody tr th:only-of-type {\n",
       "        vertical-align: middle;\n",
       "    }\n",
       "\n",
       "    .dataframe tbody tr th {\n",
       "        vertical-align: top;\n",
       "    }\n",
       "\n",
       "    .dataframe thead th {\n",
       "        text-align: right;\n",
       "    }\n",
       "</style>\n",
       "<table border=\"1\" class=\"dataframe\">\n",
       "  <thead>\n",
       "    <tr style=\"text-align: right;\">\n",
       "      <th></th>\n",
       "      <th>EmployeeID</th>\n",
       "      <th>pred_ret_2017</th>\n",
       "    </tr>\n",
       "  </thead>\n",
       "  <tbody>\n",
       "    <tr>\n",
       "      <th>0</th>\n",
       "      <td>8246</td>\n",
       "      <td>1</td>\n",
       "    </tr>\n",
       "    <tr>\n",
       "      <th>1</th>\n",
       "      <td>8255</td>\n",
       "      <td>1</td>\n",
       "    </tr>\n",
       "    <tr>\n",
       "      <th>2</th>\n",
       "      <td>8260</td>\n",
       "      <td>1</td>\n",
       "    </tr>\n",
       "    <tr>\n",
       "      <th>3</th>\n",
       "      <td>8264</td>\n",
       "      <td>1</td>\n",
       "    </tr>\n",
       "    <tr>\n",
       "      <th>4</th>\n",
       "      <td>8279</td>\n",
       "      <td>1</td>\n",
       "    </tr>\n",
       "    <tr>\n",
       "      <th>...</th>\n",
       "      <td>...</td>\n",
       "      <td>...</td>\n",
       "    </tr>\n",
       "    <tr>\n",
       "      <th>4405</th>\n",
       "      <td>8384</td>\n",
       "      <td>1</td>\n",
       "    </tr>\n",
       "    <tr>\n",
       "      <th>4406</th>\n",
       "      <td>8390</td>\n",
       "      <td>1</td>\n",
       "    </tr>\n",
       "    <tr>\n",
       "      <th>4407</th>\n",
       "      <td>8391</td>\n",
       "      <td>1</td>\n",
       "    </tr>\n",
       "    <tr>\n",
       "      <th>4408</th>\n",
       "      <td>8405</td>\n",
       "      <td>1</td>\n",
       "    </tr>\n",
       "    <tr>\n",
       "      <th>4409</th>\n",
       "      <td>1</td>\n",
       "      <td>0</td>\n",
       "    </tr>\n",
       "  </tbody>\n",
       "</table>\n",
       "<p>4410 rows × 2 columns</p>\n",
       "</div>"
      ],
      "text/plain": [
       "      EmployeeID  pred_ret_2017\n",
       "0           8246              1\n",
       "1           8255              1\n",
       "2           8260              1\n",
       "3           8264              1\n",
       "4           8279              1\n",
       "...          ...            ...\n",
       "4405        8384              1\n",
       "4406        8390              1\n",
       "4407        8391              1\n",
       "4408        8405              1\n",
       "4409           1              0\n",
       "\n",
       "[4410 rows x 2 columns]"
      ]
     },
     "execution_count": 4,
     "metadata": {},
     "output_type": "execute_result"
    }
   ],
   "source": [
    "emp_pred"
   ]
  },
  {
   "cell_type": "code",
   "execution_count": 5,
   "metadata": {},
   "outputs": [
    {
     "data": {
      "text/plain": [
       "pred_ret_2017\n",
       "0    3724\n",
       "1     686\n",
       "Name: count, dtype: int64"
      ]
     },
     "execution_count": 5,
     "metadata": {},
     "output_type": "execute_result"
    }
   ],
   "source": [
    "emp_pred['pred_ret_2017'].value_counts()"
   ]
  },
  {
   "cell_type": "code",
   "execution_count": 12,
   "metadata": {},
   "outputs": [
    {
     "data": {
      "text/html": [
       "<div>\n",
       "<style scoped>\n",
       "    .dataframe tbody tr th:only-of-type {\n",
       "        vertical-align: middle;\n",
       "    }\n",
       "\n",
       "    .dataframe tbody tr th {\n",
       "        vertical-align: top;\n",
       "    }\n",
       "\n",
       "    .dataframe thead th {\n",
       "        text-align: right;\n",
       "    }\n",
       "</style>\n",
       "<table border=\"1\" class=\"dataframe\">\n",
       "  <thead>\n",
       "    <tr style=\"text-align: right;\">\n",
       "      <th></th>\n",
       "      <th>EmployeeID</th>\n",
       "      <th>pred_ret_2017</th>\n",
       "    </tr>\n",
       "  </thead>\n",
       "  <tbody>\n",
       "    <tr>\n",
       "      <th>3757</th>\n",
       "      <td>8813</td>\n",
       "      <td>1</td>\n",
       "    </tr>\n",
       "  </tbody>\n",
       "</table>\n",
       "</div>"
      ],
      "text/plain": [
       "      EmployeeID  pred_ret_2017\n",
       "3757        8813              1"
      ]
     },
     "execution_count": 12,
     "metadata": {},
     "output_type": "execute_result"
    }
   ],
   "source": [
    "emp_pred1 = emp_pred[(emp_pred['EmployeeID'] == 8813)&(emp_pred['pred_ret_2017'] == 1)]\n",
    "emp_pred1"
   ]
  },
  {
   "cell_type": "code",
   "execution_count": 6,
   "metadata": {},
   "outputs": [
    {
     "name": "stderr",
     "output_type": "stream",
     "text": [
      "C:\\Users\\srest\\AppData\\Local\\Temp\\ipykernel_19876\\969359448.py:3: FutureWarning: \n",
      "\n",
      "Passing `palette` without assigning `hue` is deprecated and will be removed in v0.14.0. Assign the `x` variable to `hue` and set `legend=False` for the same effect.\n",
      "\n",
      "  ax = sns.countplot(data=emp_pred, x='pred_ret_2017', palette=['#979dac', '#006e90'])\n"
     ]
    },
    {
     "data": {
      "text/plain": [
       "([<matplotlib.axis.XTick at 0x23725042210>,\n",
       "  <matplotlib.axis.XTick at 0x23725060c90>],\n",
       " [Text(0, 0, '0'), Text(1, 0, '1')])"
      ]
     },
     "execution_count": 6,
     "metadata": {},
     "output_type": "execute_result"
    },
    {
     "data": {
      "image/png": "[encoded data removed]",
      "text/plain": [
       "<Figure size 800x600 with 1 Axes>"
      ]
     },
     "metadata": {},
     "output_type": "display_data"
    }
   ],
   "source": [
    "# Contar las frecuencias de cada valor en la columna 'pred_ret_2017'\n",
    "plt.figure(figsize=(8, 6))\n",
    "ax = sns.countplot(data=emp_pred, x='pred_ret_2017', palette=['#979dac', '#006e90'])\n",
    "\n",
    "# Crear el gráfico de barras\n",
    "plt.xlabel('Predicción retiros 2017')\n",
    "plt.ylabel('Count')\n",
    "plt.title('Cantidad de empleados que se retiran en el 2017')\n",
    "\n",
    "# Calcula las frecuencias y porcentajes\n",
    "counts = emp_pred['pred_ret_2017'].value_counts()\n",
    "total = len(emp_pred)\n",
    "percentages = (counts / total * 100).reindex([0, 1], fill_value=0)\n",
    "\n",
    "\n",
    "# Configura los ticks y etiquetas\n",
    "ax.set_xticks([0, 1])\n",
    "ax.set_xticklabels(['Permanece', 'Se Retira'])\n",
    "\n",
    "for tick in [0, 1]:\n",
    "    count = counts.get(tick, 0)\n",
    "    percentage = percentages.get(tick, 0)\n",
    "    ax.text(tick, count + 10, f'{percentage:.2f}%', ha='center', color='black')\n",
    "plt.xticks(ticks=[0, 1], labels=['0', '1'], rotation=0)\n"
   ]
  },
  {
   "cell_type": "code",
   "execution_count": null,
   "metadata": {},
   "outputs": [],
   "source": []
  }
 ],
 "metadata": {
  "kernelspec": {
   "display_name": "Python 3",
   "language": "python",
   "name": "python3"
  },
  "language_info": {
   "codemirror_mode": {
    "name": "ipython",
    "version": 3
   },
   "file_extension": ".py",
   "mimetype": "text/x-python",
   "name": "python",
   "nbconvert_exporter": "python",
   "pygments_lexer": "ipython3",
   "version": "3.11.9"
  }
 },
 "nbformat": 4,
 "nbformat_minor": 2
}
